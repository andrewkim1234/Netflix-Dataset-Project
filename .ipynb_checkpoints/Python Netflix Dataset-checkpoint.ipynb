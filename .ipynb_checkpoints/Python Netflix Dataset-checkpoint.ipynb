{
 "cells": [
  {
   "cell_type": "markdown",
   "id": "a52e3265-9e4b-41a7-83f3-9138a2a2e662",
   "metadata": {},
   "source": [
    "# Python Netflix Dataset\n",
    "\n",
    "Analyze a Netflix Movies and TV shows Dataset "
   ]
  },
  {
   "cell_type": "code",
   "execution_count": 594,
   "id": "f1c660af-4e73-438e-ae41-9b5570f646a9",
   "metadata": {},
   "outputs": [],
   "source": [
    "import pandas as pd\n",
    "import numpy as np\n",
    "from matplotlib import pyplot as plt"
   ]
  },
  {
   "cell_type": "code",
   "execution_count": 595,
   "id": "55af25a9-a606-4e8f-87a5-7206fb2fd628",
   "metadata": {},
   "outputs": [
    {
     "data": {
      "text/html": [
       "<div>\n",
       "<style scoped>\n",
       "    .dataframe tbody tr th:only-of-type {\n",
       "        vertical-align: middle;\n",
       "    }\n",
       "\n",
       "    .dataframe tbody tr th {\n",
       "        vertical-align: top;\n",
       "    }\n",
       "\n",
       "    .dataframe thead th {\n",
       "        text-align: right;\n",
       "    }\n",
       "</style>\n",
       "<table border=\"1\" class=\"dataframe\">\n",
       "  <thead>\n",
       "    <tr style=\"text-align: right;\">\n",
       "      <th></th>\n",
       "      <th>show_id</th>\n",
       "      <th>type</th>\n",
       "      <th>title</th>\n",
       "      <th>director</th>\n",
       "      <th>cast</th>\n",
       "      <th>country</th>\n",
       "      <th>date_added</th>\n",
       "      <th>release_year</th>\n",
       "      <th>rating</th>\n",
       "      <th>duration</th>\n",
       "      <th>listed_in</th>\n",
       "      <th>description</th>\n",
       "    </tr>\n",
       "  </thead>\n",
       "  <tbody>\n",
       "    <tr>\n",
       "      <th>0</th>\n",
       "      <td>s1</td>\n",
       "      <td>Movie</td>\n",
       "      <td>Dick Johnson Is Dead</td>\n",
       "      <td>Kirsten Johnson</td>\n",
       "      <td>NaN</td>\n",
       "      <td>United States</td>\n",
       "      <td>September 25, 2021</td>\n",
       "      <td>2020</td>\n",
       "      <td>PG-13</td>\n",
       "      <td>90 min</td>\n",
       "      <td>Documentaries</td>\n",
       "      <td>As her father nears the end of his life, filmm...</td>\n",
       "    </tr>\n",
       "    <tr>\n",
       "      <th>1</th>\n",
       "      <td>s2</td>\n",
       "      <td>TV Show</td>\n",
       "      <td>Blood &amp; Water</td>\n",
       "      <td>NaN</td>\n",
       "      <td>Ama Qamata, Khosi Ngema, Gail Mabalane, Thaban...</td>\n",
       "      <td>South Africa</td>\n",
       "      <td>September 24, 2021</td>\n",
       "      <td>2021</td>\n",
       "      <td>TV-MA</td>\n",
       "      <td>2 Seasons</td>\n",
       "      <td>International TV Shows, TV Dramas, TV Mysteries</td>\n",
       "      <td>After crossing paths at a party, a Cape Town t...</td>\n",
       "    </tr>\n",
       "    <tr>\n",
       "      <th>2</th>\n",
       "      <td>s3</td>\n",
       "      <td>TV Show</td>\n",
       "      <td>Ganglands</td>\n",
       "      <td>Julien Leclercq</td>\n",
       "      <td>Sami Bouajila, Tracy Gotoas, Samuel Jouy, Nabi...</td>\n",
       "      <td>NaN</td>\n",
       "      <td>September 24, 2021</td>\n",
       "      <td>2021</td>\n",
       "      <td>TV-MA</td>\n",
       "      <td>1 Season</td>\n",
       "      <td>Crime TV Shows, International TV Shows, TV Act...</td>\n",
       "      <td>To protect his family from a powerful drug lor...</td>\n",
       "    </tr>\n",
       "    <tr>\n",
       "      <th>3</th>\n",
       "      <td>s4</td>\n",
       "      <td>TV Show</td>\n",
       "      <td>Jailbirds New Orleans</td>\n",
       "      <td>NaN</td>\n",
       "      <td>NaN</td>\n",
       "      <td>NaN</td>\n",
       "      <td>September 24, 2021</td>\n",
       "      <td>2021</td>\n",
       "      <td>TV-MA</td>\n",
       "      <td>1 Season</td>\n",
       "      <td>Docuseries, Reality TV</td>\n",
       "      <td>Feuds, flirtations and toilet talk go down amo...</td>\n",
       "    </tr>\n",
       "    <tr>\n",
       "      <th>4</th>\n",
       "      <td>s5</td>\n",
       "      <td>TV Show</td>\n",
       "      <td>Kota Factory</td>\n",
       "      <td>NaN</td>\n",
       "      <td>Mayur More, Jitendra Kumar, Ranjan Raj, Alam K...</td>\n",
       "      <td>India</td>\n",
       "      <td>September 24, 2021</td>\n",
       "      <td>2021</td>\n",
       "      <td>TV-MA</td>\n",
       "      <td>2 Seasons</td>\n",
       "      <td>International TV Shows, Romantic TV Shows, TV ...</td>\n",
       "      <td>In a city of coaching centers known to train I...</td>\n",
       "    </tr>\n",
       "  </tbody>\n",
       "</table>\n",
       "</div>"
      ],
      "text/plain": [
       "  show_id     type                  title         director  \\\n",
       "0      s1    Movie   Dick Johnson Is Dead  Kirsten Johnson   \n",
       "1      s2  TV Show          Blood & Water              NaN   \n",
       "2      s3  TV Show              Ganglands  Julien Leclercq   \n",
       "3      s4  TV Show  Jailbirds New Orleans              NaN   \n",
       "4      s5  TV Show           Kota Factory              NaN   \n",
       "\n",
       "                                                cast        country  \\\n",
       "0                                                NaN  United States   \n",
       "1  Ama Qamata, Khosi Ngema, Gail Mabalane, Thaban...   South Africa   \n",
       "2  Sami Bouajila, Tracy Gotoas, Samuel Jouy, Nabi...            NaN   \n",
       "3                                                NaN            NaN   \n",
       "4  Mayur More, Jitendra Kumar, Ranjan Raj, Alam K...          India   \n",
       "\n",
       "           date_added  release_year rating   duration  \\\n",
       "0  September 25, 2021          2020  PG-13     90 min   \n",
       "1  September 24, 2021          2021  TV-MA  2 Seasons   \n",
       "2  September 24, 2021          2021  TV-MA   1 Season   \n",
       "3  September 24, 2021          2021  TV-MA   1 Season   \n",
       "4  September 24, 2021          2021  TV-MA  2 Seasons   \n",
       "\n",
       "                                           listed_in  \\\n",
       "0                                      Documentaries   \n",
       "1    International TV Shows, TV Dramas, TV Mysteries   \n",
       "2  Crime TV Shows, International TV Shows, TV Act...   \n",
       "3                             Docuseries, Reality TV   \n",
       "4  International TV Shows, Romantic TV Shows, TV ...   \n",
       "\n",
       "                                         description  \n",
       "0  As her father nears the end of his life, filmm...  \n",
       "1  After crossing paths at a party, a Cape Town t...  \n",
       "2  To protect his family from a powerful drug lor...  \n",
       "3  Feuds, flirtations and toilet talk go down amo...  \n",
       "4  In a city of coaching centers known to train I...  "
      ]
     },
     "execution_count": 595,
     "metadata": {},
     "output_type": "execute_result"
    }
   ],
   "source": [
    "netflix_data = pd.read_csv(\"netflix_titles.csv\")\n",
    "netflix_data.head()"
   ]
  },
  {
   "cell_type": "markdown",
   "id": "0704af8b-b5d2-4e13-b04b-2e1f193ae4e3",
   "metadata": {},
   "source": [
    "### Loading, Inspecting and Cleaning the dataset\n",
    "\n",
    "Using functions such as .info(), .describe(), .rename(), etc..."
   ]
  },
  {
   "cell_type": "code",
   "execution_count": 596,
   "id": "6a0bff9a-643d-44d5-86dc-94a625e55d83",
   "metadata": {},
   "outputs": [
    {
     "name": "stdout",
     "output_type": "stream",
     "text": [
      "<class 'pandas.core.frame.DataFrame'>\n",
      "RangeIndex: 8807 entries, 0 to 8806\n",
      "Data columns (total 12 columns):\n",
      " #   Column        Non-Null Count  Dtype \n",
      "---  ------        --------------  ----- \n",
      " 0   show_id       8807 non-null   object\n",
      " 1   type          8807 non-null   object\n",
      " 2   title         8807 non-null   object\n",
      " 3   director      6173 non-null   object\n",
      " 4   cast          7982 non-null   object\n",
      " 5   country       7976 non-null   object\n",
      " 6   date_added    8797 non-null   object\n",
      " 7   release_year  8807 non-null   int64 \n",
      " 8   rating        8803 non-null   object\n",
      " 9   duration      8804 non-null   object\n",
      " 10  listed_in     8807 non-null   object\n",
      " 11  description   8807 non-null   object\n",
      "dtypes: int64(1), object(11)\n",
      "memory usage: 825.8+ KB\n"
     ]
    }
   ],
   "source": [
    "netflix_data.info()\n",
    "#making sure that numeric columns are typed as int64 and that descriptive columns are of type object\n",
    "#keep in mind that rating means age rating and duration is in terms of seasons or minutes (TV show or movie respectively)"
   ]
  },
  {
   "cell_type": "code",
   "execution_count": 597,
   "id": "1eecba69-f9c0-4b4e-8323-8786dfa06b82",
   "metadata": {},
   "outputs": [
    {
     "data": {
      "text/html": [
       "<div>\n",
       "<style scoped>\n",
       "    .dataframe tbody tr th:only-of-type {\n",
       "        vertical-align: middle;\n",
       "    }\n",
       "\n",
       "    .dataframe tbody tr th {\n",
       "        vertical-align: top;\n",
       "    }\n",
       "\n",
       "    .dataframe thead th {\n",
       "        text-align: right;\n",
       "    }\n",
       "</style>\n",
       "<table border=\"1\" class=\"dataframe\">\n",
       "  <thead>\n",
       "    <tr style=\"text-align: right;\">\n",
       "      <th></th>\n",
       "      <th>show_id</th>\n",
       "      <th>type</th>\n",
       "      <th>title</th>\n",
       "      <th>director</th>\n",
       "      <th>cast</th>\n",
       "      <th>country</th>\n",
       "      <th>date_added</th>\n",
       "      <th>release_year</th>\n",
       "      <th>rating</th>\n",
       "      <th>duration</th>\n",
       "      <th>listed_in</th>\n",
       "      <th>description</th>\n",
       "      <th>duration_time</th>\n",
       "      <th>minutes_or_seasons_type</th>\n",
       "    </tr>\n",
       "  </thead>\n",
       "  <tbody>\n",
       "    <tr>\n",
       "      <th>0</th>\n",
       "      <td>s1</td>\n",
       "      <td>Movie</td>\n",
       "      <td>Dick Johnson Is Dead</td>\n",
       "      <td>Kirsten Johnson</td>\n",
       "      <td>NaN</td>\n",
       "      <td>United States</td>\n",
       "      <td>September 25, 2021</td>\n",
       "      <td>2020</td>\n",
       "      <td>PG-13</td>\n",
       "      <td>90 min</td>\n",
       "      <td>Documentaries</td>\n",
       "      <td>As her father nears the end of his life, filmm...</td>\n",
       "      <td>90</td>\n",
       "      <td>min</td>\n",
       "    </tr>\n",
       "    <tr>\n",
       "      <th>1</th>\n",
       "      <td>s2</td>\n",
       "      <td>TV Show</td>\n",
       "      <td>Blood &amp; Water</td>\n",
       "      <td>NaN</td>\n",
       "      <td>Ama Qamata, Khosi Ngema, Gail Mabalane, Thaban...</td>\n",
       "      <td>South Africa</td>\n",
       "      <td>September 24, 2021</td>\n",
       "      <td>2021</td>\n",
       "      <td>TV-MA</td>\n",
       "      <td>2 Seasons</td>\n",
       "      <td>International TV Shows, TV Dramas, TV Mysteries</td>\n",
       "      <td>After crossing paths at a party, a Cape Town t...</td>\n",
       "      <td>2</td>\n",
       "      <td>Seasons</td>\n",
       "    </tr>\n",
       "    <tr>\n",
       "      <th>2</th>\n",
       "      <td>s3</td>\n",
       "      <td>TV Show</td>\n",
       "      <td>Ganglands</td>\n",
       "      <td>Julien Leclercq</td>\n",
       "      <td>Sami Bouajila, Tracy Gotoas, Samuel Jouy, Nabi...</td>\n",
       "      <td>NaN</td>\n",
       "      <td>September 24, 2021</td>\n",
       "      <td>2021</td>\n",
       "      <td>TV-MA</td>\n",
       "      <td>1 Season</td>\n",
       "      <td>Crime TV Shows, International TV Shows, TV Act...</td>\n",
       "      <td>To protect his family from a powerful drug lor...</td>\n",
       "      <td>1</td>\n",
       "      <td>Season</td>\n",
       "    </tr>\n",
       "    <tr>\n",
       "      <th>3</th>\n",
       "      <td>s4</td>\n",
       "      <td>TV Show</td>\n",
       "      <td>Jailbirds New Orleans</td>\n",
       "      <td>NaN</td>\n",
       "      <td>NaN</td>\n",
       "      <td>NaN</td>\n",
       "      <td>September 24, 2021</td>\n",
       "      <td>2021</td>\n",
       "      <td>TV-MA</td>\n",
       "      <td>1 Season</td>\n",
       "      <td>Docuseries, Reality TV</td>\n",
       "      <td>Feuds, flirtations and toilet talk go down amo...</td>\n",
       "      <td>1</td>\n",
       "      <td>Season</td>\n",
       "    </tr>\n",
       "    <tr>\n",
       "      <th>4</th>\n",
       "      <td>s5</td>\n",
       "      <td>TV Show</td>\n",
       "      <td>Kota Factory</td>\n",
       "      <td>NaN</td>\n",
       "      <td>Mayur More, Jitendra Kumar, Ranjan Raj, Alam K...</td>\n",
       "      <td>India</td>\n",
       "      <td>September 24, 2021</td>\n",
       "      <td>2021</td>\n",
       "      <td>TV-MA</td>\n",
       "      <td>2 Seasons</td>\n",
       "      <td>International TV Shows, Romantic TV Shows, TV ...</td>\n",
       "      <td>In a city of coaching centers known to train I...</td>\n",
       "      <td>2</td>\n",
       "      <td>Seasons</td>\n",
       "    </tr>\n",
       "  </tbody>\n",
       "</table>\n",
       "</div>"
      ],
      "text/plain": [
       "  show_id     type                  title         director  \\\n",
       "0      s1    Movie   Dick Johnson Is Dead  Kirsten Johnson   \n",
       "1      s2  TV Show          Blood & Water              NaN   \n",
       "2      s3  TV Show              Ganglands  Julien Leclercq   \n",
       "3      s4  TV Show  Jailbirds New Orleans              NaN   \n",
       "4      s5  TV Show           Kota Factory              NaN   \n",
       "\n",
       "                                                cast        country  \\\n",
       "0                                                NaN  United States   \n",
       "1  Ama Qamata, Khosi Ngema, Gail Mabalane, Thaban...   South Africa   \n",
       "2  Sami Bouajila, Tracy Gotoas, Samuel Jouy, Nabi...            NaN   \n",
       "3                                                NaN            NaN   \n",
       "4  Mayur More, Jitendra Kumar, Ranjan Raj, Alam K...          India   \n",
       "\n",
       "           date_added  release_year rating   duration  \\\n",
       "0  September 25, 2021          2020  PG-13     90 min   \n",
       "1  September 24, 2021          2021  TV-MA  2 Seasons   \n",
       "2  September 24, 2021          2021  TV-MA   1 Season   \n",
       "3  September 24, 2021          2021  TV-MA   1 Season   \n",
       "4  September 24, 2021          2021  TV-MA  2 Seasons   \n",
       "\n",
       "                                           listed_in  \\\n",
       "0                                      Documentaries   \n",
       "1    International TV Shows, TV Dramas, TV Mysteries   \n",
       "2  Crime TV Shows, International TV Shows, TV Act...   \n",
       "3                             Docuseries, Reality TV   \n",
       "4  International TV Shows, Romantic TV Shows, TV ...   \n",
       "\n",
       "                                         description duration_time  \\\n",
       "0  As her father nears the end of his life, filmm...            90   \n",
       "1  After crossing paths at a party, a Cape Town t...             2   \n",
       "2  To protect his family from a powerful drug lor...             1   \n",
       "3  Feuds, flirtations and toilet talk go down amo...             1   \n",
       "4  In a city of coaching centers known to train I...             2   \n",
       "\n",
       "  minutes_or_seasons_type  \n",
       "0                     min  \n",
       "1                 Seasons  \n",
       "2                  Season  \n",
       "3                  Season  \n",
       "4                 Seasons  "
      ]
     },
     "execution_count": 597,
     "metadata": {},
     "output_type": "execute_result"
    }
   ],
   "source": [
    "loc_split = netflix_data[\"duration\"].str.split(\n",
    "    pat = \" \",\n",
    "    expand = True\n",
    ")\n",
    "netflix_data[\"duration_time\"] = loc_split[0]\n",
    "netflix_data[\"minutes_or_seasons_type\"] = loc_split[1]\n",
    "netflix_data.head()\n",
    "\n",
    "#making two more columns where I essentially split the duration"
   ]
  },
  {
   "cell_type": "code",
   "execution_count": 598,
   "id": "e6e374ea-9bac-405b-b917-60521cb1cd1a",
   "metadata": {},
   "outputs": [
    {
     "data": {
      "text/html": [
       "<div>\n",
       "<style scoped>\n",
       "    .dataframe tbody tr th:only-of-type {\n",
       "        vertical-align: middle;\n",
       "    }\n",
       "\n",
       "    .dataframe tbody tr th {\n",
       "        vertical-align: top;\n",
       "    }\n",
       "\n",
       "    .dataframe thead th {\n",
       "        text-align: right;\n",
       "    }\n",
       "</style>\n",
       "<table border=\"1\" class=\"dataframe\">\n",
       "  <thead>\n",
       "    <tr style=\"text-align: right;\">\n",
       "      <th></th>\n",
       "      <th>show_id</th>\n",
       "      <th>type</th>\n",
       "      <th>title</th>\n",
       "      <th>director</th>\n",
       "      <th>cast</th>\n",
       "      <th>country</th>\n",
       "      <th>date_added</th>\n",
       "      <th>release_year</th>\n",
       "      <th>rating</th>\n",
       "      <th>duration</th>\n",
       "      <th>listed_in</th>\n",
       "      <th>description</th>\n",
       "      <th>duration_time</th>\n",
       "      <th>minutes_or_seasons_type</th>\n",
       "    </tr>\n",
       "  </thead>\n",
       "  <tbody>\n",
       "    <tr>\n",
       "      <th>0</th>\n",
       "      <td>s1</td>\n",
       "      <td>Movie</td>\n",
       "      <td>Dick Johnson Is Dead</td>\n",
       "      <td>Kirsten Johnson</td>\n",
       "      <td>NaN</td>\n",
       "      <td>United States</td>\n",
       "      <td>September 25, 2021</td>\n",
       "      <td>2020</td>\n",
       "      <td>PG-13</td>\n",
       "      <td>90 min</td>\n",
       "      <td>Documentaries</td>\n",
       "      <td>As her father nears the end of his life, filmm...</td>\n",
       "      <td>90</td>\n",
       "      <td>min</td>\n",
       "    </tr>\n",
       "    <tr>\n",
       "      <th>1</th>\n",
       "      <td>s2</td>\n",
       "      <td>TV Show</td>\n",
       "      <td>Blood &amp; Water</td>\n",
       "      <td>NaN</td>\n",
       "      <td>Ama Qamata, Khosi Ngema, Gail Mabalane, Thaban...</td>\n",
       "      <td>South Africa</td>\n",
       "      <td>September 24, 2021</td>\n",
       "      <td>2021</td>\n",
       "      <td>TV-MA</td>\n",
       "      <td>2 Seasons</td>\n",
       "      <td>International TV Shows, TV Dramas, TV Mysteries</td>\n",
       "      <td>After crossing paths at a party, a Cape Town t...</td>\n",
       "      <td>2</td>\n",
       "      <td>Seasons</td>\n",
       "    </tr>\n",
       "    <tr>\n",
       "      <th>2</th>\n",
       "      <td>s3</td>\n",
       "      <td>TV Show</td>\n",
       "      <td>Ganglands</td>\n",
       "      <td>Julien Leclercq</td>\n",
       "      <td>Sami Bouajila, Tracy Gotoas, Samuel Jouy, Nabi...</td>\n",
       "      <td>NaN</td>\n",
       "      <td>September 24, 2021</td>\n",
       "      <td>2021</td>\n",
       "      <td>TV-MA</td>\n",
       "      <td>1 Season</td>\n",
       "      <td>Crime TV Shows, International TV Shows, TV Act...</td>\n",
       "      <td>To protect his family from a powerful drug lor...</td>\n",
       "      <td>1</td>\n",
       "      <td>Season</td>\n",
       "    </tr>\n",
       "    <tr>\n",
       "      <th>3</th>\n",
       "      <td>s4</td>\n",
       "      <td>TV Show</td>\n",
       "      <td>Jailbirds New Orleans</td>\n",
       "      <td>NaN</td>\n",
       "      <td>NaN</td>\n",
       "      <td>NaN</td>\n",
       "      <td>September 24, 2021</td>\n",
       "      <td>2021</td>\n",
       "      <td>TV-MA</td>\n",
       "      <td>1 Season</td>\n",
       "      <td>Docuseries, Reality TV</td>\n",
       "      <td>Feuds, flirtations and toilet talk go down amo...</td>\n",
       "      <td>1</td>\n",
       "      <td>Season</td>\n",
       "    </tr>\n",
       "    <tr>\n",
       "      <th>4</th>\n",
       "      <td>s5</td>\n",
       "      <td>TV Show</td>\n",
       "      <td>Kota Factory</td>\n",
       "      <td>NaN</td>\n",
       "      <td>Mayur More, Jitendra Kumar, Ranjan Raj, Alam K...</td>\n",
       "      <td>India</td>\n",
       "      <td>September 24, 2021</td>\n",
       "      <td>2021</td>\n",
       "      <td>TV-MA</td>\n",
       "      <td>2 Seasons</td>\n",
       "      <td>International TV Shows, Romantic TV Shows, TV ...</td>\n",
       "      <td>In a city of coaching centers known to train I...</td>\n",
       "      <td>2</td>\n",
       "      <td>Seasons</td>\n",
       "    </tr>\n",
       "  </tbody>\n",
       "</table>\n",
       "</div>"
      ],
      "text/plain": [
       "  show_id     type                  title         director  \\\n",
       "0      s1    Movie   Dick Johnson Is Dead  Kirsten Johnson   \n",
       "1      s2  TV Show          Blood & Water              NaN   \n",
       "2      s3  TV Show              Ganglands  Julien Leclercq   \n",
       "3      s4  TV Show  Jailbirds New Orleans              NaN   \n",
       "4      s5  TV Show           Kota Factory              NaN   \n",
       "\n",
       "                                                cast        country  \\\n",
       "0                                                NaN  United States   \n",
       "1  Ama Qamata, Khosi Ngema, Gail Mabalane, Thaban...   South Africa   \n",
       "2  Sami Bouajila, Tracy Gotoas, Samuel Jouy, Nabi...            NaN   \n",
       "3                                                NaN            NaN   \n",
       "4  Mayur More, Jitendra Kumar, Ranjan Raj, Alam K...          India   \n",
       "\n",
       "           date_added  release_year rating   duration  \\\n",
       "0  September 25, 2021          2020  PG-13     90 min   \n",
       "1  September 24, 2021          2021  TV-MA  2 Seasons   \n",
       "2  September 24, 2021          2021  TV-MA   1 Season   \n",
       "3  September 24, 2021          2021  TV-MA   1 Season   \n",
       "4  September 24, 2021          2021  TV-MA  2 Seasons   \n",
       "\n",
       "                                           listed_in  \\\n",
       "0                                      Documentaries   \n",
       "1    International TV Shows, TV Dramas, TV Mysteries   \n",
       "2  Crime TV Shows, International TV Shows, TV Act...   \n",
       "3                             Docuseries, Reality TV   \n",
       "4  International TV Shows, Romantic TV Shows, TV ...   \n",
       "\n",
       "                                         description duration_time  \\\n",
       "0  As her father nears the end of his life, filmm...            90   \n",
       "1  After crossing paths at a party, a Cape Town t...             2   \n",
       "2  To protect his family from a powerful drug lor...             1   \n",
       "3  Feuds, flirtations and toilet talk go down amo...             1   \n",
       "4  In a city of coaching centers known to train I...             2   \n",
       "\n",
       "  minutes_or_seasons_type  \n",
       "0                     min  \n",
       "1                 Seasons  \n",
       "2                  Season  \n",
       "3                  Season  \n",
       "4                 Seasons  "
      ]
     },
     "execution_count": 598,
     "metadata": {},
     "output_type": "execute_result"
    }
   ],
   "source": [
    "nan_df = netflix_data[netflix_data.isna().any(axis = 1)]\n",
    "nan_df.head()\n",
    "\n",
    "#checking for NaN values in the dataset"
   ]
  },
  {
   "cell_type": "code",
   "execution_count": 599,
   "id": "4739d9ae-11e5-49ca-a493-719c9f834744",
   "metadata": {},
   "outputs": [
    {
     "name": "stdout",
     "output_type": "stream",
     "text": [
      "<class 'pandas.core.frame.DataFrame'>\n",
      "Index: 3475 entries, 0 to 8803\n",
      "Data columns (total 14 columns):\n",
      " #   Column                   Non-Null Count  Dtype \n",
      "---  ------                   --------------  ----- \n",
      " 0   show_id                  3475 non-null   object\n",
      " 1   type                     3475 non-null   object\n",
      " 2   title                    3475 non-null   object\n",
      " 3   director                 841 non-null    object\n",
      " 4   cast                     2650 non-null   object\n",
      " 5   country                  2644 non-null   object\n",
      " 6   date_added               3465 non-null   object\n",
      " 7   release_year             3475 non-null   int64 \n",
      " 8   rating                   3471 non-null   object\n",
      " 9   duration                 3472 non-null   object\n",
      " 10  listed_in                3475 non-null   object\n",
      " 11  description              3475 non-null   object\n",
      " 12  duration_time            3472 non-null   object\n",
      " 13  minutes_or_seasons_type  3472 non-null   object\n",
      "dtypes: int64(1), object(13)\n",
      "memory usage: 407.2+ KB\n"
     ]
    }
   ],
   "source": [
    "nan_df.info()"
   ]
  },
  {
   "cell_type": "code",
   "execution_count": 600,
   "id": "992dd9d0-252e-4300-bcdc-4650407c24f4",
   "metadata": {},
   "outputs": [],
   "source": [
    "netflix_data = netflix_data.dropna(how = \"any\")"
   ]
  },
  {
   "cell_type": "code",
   "execution_count": 601,
   "id": "cdb3b4e8-7fc0-4ede-9ae8-71abef9ec708",
   "metadata": {},
   "outputs": [
    {
     "name": "stdout",
     "output_type": "stream",
     "text": [
      "<class 'pandas.core.frame.DataFrame'>\n",
      "Index: 5332 entries, 7 to 8806\n",
      "Data columns (total 14 columns):\n",
      " #   Column                   Non-Null Count  Dtype \n",
      "---  ------                   --------------  ----- \n",
      " 0   show_id                  5332 non-null   object\n",
      " 1   type                     5332 non-null   object\n",
      " 2   title                    5332 non-null   object\n",
      " 3   director                 5332 non-null   object\n",
      " 4   cast                     5332 non-null   object\n",
      " 5   country                  5332 non-null   object\n",
      " 6   date_added               5332 non-null   object\n",
      " 7   release_year             5332 non-null   int64 \n",
      " 8   rating                   5332 non-null   object\n",
      " 9   duration                 5332 non-null   object\n",
      " 10  listed_in                5332 non-null   object\n",
      " 11  description              5332 non-null   object\n",
      " 12  duration_time            5332 non-null   object\n",
      " 13  minutes_or_seasons_type  5332 non-null   object\n",
      "dtypes: int64(1), object(13)\n",
      "memory usage: 624.8+ KB\n"
     ]
    }
   ],
   "source": [
    "netflix_data.info()\n",
    "#Successfully deleted all entries where a NaN was in the dataset"
   ]
  },
  {
   "cell_type": "markdown",
   "id": "fde354c5-f45e-451c-b5dc-3604662eb1b6",
   "metadata": {},
   "source": [
    "In the previous steps, there was originally 8807 entries in the netflix dataset but after removing all of the data with the NaN values (which had 3475 entries) the remaining entries in the netflix dataset is 5332 which is 8807 - 3475."
   ]
  },
  {
   "cell_type": "code",
   "execution_count": 602,
   "id": "59eb1ac5-cc2b-4001-8375-1eb3958a4896",
   "metadata": {},
   "outputs": [
    {
     "name": "stdout",
     "output_type": "stream",
     "text": [
      "<class 'pandas.core.frame.DataFrame'>\n",
      "Index: 5332 entries, 7 to 8806\n",
      "Data columns (total 14 columns):\n",
      " #   Column                   Non-Null Count  Dtype  \n",
      "---  ------                   --------------  -----  \n",
      " 0   show_id                  5332 non-null   object \n",
      " 1   type                     5332 non-null   object \n",
      " 2   title                    5332 non-null   object \n",
      " 3   director                 5332 non-null   object \n",
      " 4   cast                     5332 non-null   object \n",
      " 5   country                  5332 non-null   object \n",
      " 6   date_added               5332 non-null   object \n",
      " 7   release_year             5332 non-null   int64  \n",
      " 8   rating                   5332 non-null   object \n",
      " 9   duration                 5332 non-null   object \n",
      " 10  listed_in                5332 non-null   object \n",
      " 11  description              5332 non-null   object \n",
      " 12  duration_time            5332 non-null   float64\n",
      " 13  minutes_or_seasons_type  5332 non-null   object \n",
      "dtypes: float64(1), int64(1), object(12)\n",
      "memory usage: 624.8+ KB\n"
     ]
    }
   ],
   "source": [
    "netflix_data[\"duration_time\"] = netflix_data[\"duration_time\"].astype(float)\n",
    "netflix_data.info()"
   ]
  },
  {
   "cell_type": "code",
   "execution_count": 603,
   "id": "9feff20d-a7bf-49b4-85ac-a08a9cb976df",
   "metadata": {},
   "outputs": [
    {
     "data": {
      "text/plain": [
       "count      5332\n",
       "unique       14\n",
       "top       TV-MA\n",
       "freq       1822\n",
       "Name: rating, dtype: object"
      ]
     },
     "execution_count": 603,
     "metadata": {},
     "output_type": "execute_result"
    }
   ],
   "source": [
    "netflix_data[\"rating\"].describe()"
   ]
  },
  {
   "cell_type": "code",
   "execution_count": 604,
   "id": "e4c23a23-7af7-4e8f-8077-e6a2af019016",
   "metadata": {},
   "outputs": [
    {
     "data": {
      "text/plain": [
       "rating\n",
       "TV-MA       0.341710\n",
       "TV-14       0.227682\n",
       "R           0.145911\n",
       "PG-13       0.088147\n",
       "TV-PG       0.080833\n",
       "PG          0.051575\n",
       "TV-G        0.015754\n",
       "TV-Y7       0.014254\n",
       "TV-Y        0.014254\n",
       "NR          0.010878\n",
       "G           0.007502\n",
       "TV-Y7-FV    0.000563\n",
       "UR          0.000563\n",
       "NC-17       0.000375\n",
       "Name: proportion, dtype: float64"
      ]
     },
     "execution_count": 604,
     "metadata": {},
     "output_type": "execute_result"
    }
   ],
   "source": [
    "netflix_data[\"rating\"].value_counts(normalize = True)"
   ]
  },
  {
   "cell_type": "code",
   "execution_count": 605,
   "id": "effe5778-b023-4b31-9f10-b6517d1bb469",
   "metadata": {},
   "outputs": [
    {
     "data": {
      "text/html": [
       "<div>\n",
       "<style scoped>\n",
       "    .dataframe tbody tr th:only-of-type {\n",
       "        vertical-align: middle;\n",
       "    }\n",
       "\n",
       "    .dataframe tbody tr th {\n",
       "        vertical-align: top;\n",
       "    }\n",
       "\n",
       "    .dataframe thead th {\n",
       "        text-align: right;\n",
       "    }\n",
       "</style>\n",
       "<table border=\"1\" class=\"dataframe\">\n",
       "  <thead>\n",
       "    <tr style=\"text-align: right;\">\n",
       "      <th></th>\n",
       "      <th>show_id</th>\n",
       "      <th>type</th>\n",
       "      <th>title</th>\n",
       "      <th>director</th>\n",
       "      <th>cast</th>\n",
       "      <th>country</th>\n",
       "      <th>date_added</th>\n",
       "      <th>release_year</th>\n",
       "      <th>age_rating</th>\n",
       "      <th>duration</th>\n",
       "      <th>genre</th>\n",
       "      <th>description</th>\n",
       "      <th>duration_time</th>\n",
       "      <th>minutes_or_seasons_type</th>\n",
       "    </tr>\n",
       "  </thead>\n",
       "  <tbody>\n",
       "    <tr>\n",
       "      <th>7</th>\n",
       "      <td>s8</td>\n",
       "      <td>Movie</td>\n",
       "      <td>Sankofa</td>\n",
       "      <td>Haile Gerima</td>\n",
       "      <td>Kofi Ghanaba, Oyafunmike Ogunlano, Alexandra D...</td>\n",
       "      <td>United States, Ghana, Burkina Faso, United Kin...</td>\n",
       "      <td>September 24, 2021</td>\n",
       "      <td>1993</td>\n",
       "      <td>TV-MA</td>\n",
       "      <td>125 min</td>\n",
       "      <td>Dramas, Independent Movies, International Movies</td>\n",
       "      <td>On a photo shoot in Ghana, an American model s...</td>\n",
       "      <td>125.0</td>\n",
       "      <td>min</td>\n",
       "    </tr>\n",
       "    <tr>\n",
       "      <th>8</th>\n",
       "      <td>s9</td>\n",
       "      <td>TV Show</td>\n",
       "      <td>The Great British Baking Show</td>\n",
       "      <td>Andy Devonshire</td>\n",
       "      <td>Mel Giedroyc, Sue Perkins, Mary Berry, Paul Ho...</td>\n",
       "      <td>United Kingdom</td>\n",
       "      <td>September 24, 2021</td>\n",
       "      <td>2021</td>\n",
       "      <td>TV-14</td>\n",
       "      <td>9 Seasons</td>\n",
       "      <td>British TV Shows, Reality TV</td>\n",
       "      <td>A talented batch of amateur bakers face off in...</td>\n",
       "      <td>9.0</td>\n",
       "      <td>Seasons</td>\n",
       "    </tr>\n",
       "    <tr>\n",
       "      <th>9</th>\n",
       "      <td>s10</td>\n",
       "      <td>Movie</td>\n",
       "      <td>The Starling</td>\n",
       "      <td>Theodore Melfi</td>\n",
       "      <td>Melissa McCarthy, Chris O'Dowd, Kevin Kline, T...</td>\n",
       "      <td>United States</td>\n",
       "      <td>September 24, 2021</td>\n",
       "      <td>2021</td>\n",
       "      <td>PG-13</td>\n",
       "      <td>104 min</td>\n",
       "      <td>Comedies, Dramas</td>\n",
       "      <td>A woman adjusting to life after a loss contend...</td>\n",
       "      <td>104.0</td>\n",
       "      <td>min</td>\n",
       "    </tr>\n",
       "    <tr>\n",
       "      <th>12</th>\n",
       "      <td>s13</td>\n",
       "      <td>Movie</td>\n",
       "      <td>Je Suis Karl</td>\n",
       "      <td>Christian Schwochow</td>\n",
       "      <td>Luna Wedler, Jannis Niewöhner, Milan Peschel, ...</td>\n",
       "      <td>Germany, Czech Republic</td>\n",
       "      <td>September 23, 2021</td>\n",
       "      <td>2021</td>\n",
       "      <td>TV-MA</td>\n",
       "      <td>127 min</td>\n",
       "      <td>Dramas, International Movies</td>\n",
       "      <td>After most of her family is murdered in a terr...</td>\n",
       "      <td>127.0</td>\n",
       "      <td>min</td>\n",
       "    </tr>\n",
       "    <tr>\n",
       "      <th>24</th>\n",
       "      <td>s25</td>\n",
       "      <td>Movie</td>\n",
       "      <td>Jeans</td>\n",
       "      <td>S. Shankar</td>\n",
       "      <td>Prashanth, Aishwarya Rai Bachchan, Sri Lakshmi...</td>\n",
       "      <td>India</td>\n",
       "      <td>September 21, 2021</td>\n",
       "      <td>1998</td>\n",
       "      <td>TV-14</td>\n",
       "      <td>166 min</td>\n",
       "      <td>Comedies, International Movies, Romantic Movies</td>\n",
       "      <td>When the father of the man she loves insists t...</td>\n",
       "      <td>166.0</td>\n",
       "      <td>min</td>\n",
       "    </tr>\n",
       "  </tbody>\n",
       "</table>\n",
       "</div>"
      ],
      "text/plain": [
       "   show_id     type                          title             director  \\\n",
       "7       s8    Movie                        Sankofa         Haile Gerima   \n",
       "8       s9  TV Show  The Great British Baking Show      Andy Devonshire   \n",
       "9      s10    Movie                   The Starling       Theodore Melfi   \n",
       "12     s13    Movie                   Je Suis Karl  Christian Schwochow   \n",
       "24     s25    Movie                          Jeans           S. Shankar   \n",
       "\n",
       "                                                 cast  \\\n",
       "7   Kofi Ghanaba, Oyafunmike Ogunlano, Alexandra D...   \n",
       "8   Mel Giedroyc, Sue Perkins, Mary Berry, Paul Ho...   \n",
       "9   Melissa McCarthy, Chris O'Dowd, Kevin Kline, T...   \n",
       "12  Luna Wedler, Jannis Niewöhner, Milan Peschel, ...   \n",
       "24  Prashanth, Aishwarya Rai Bachchan, Sri Lakshmi...   \n",
       "\n",
       "                                              country          date_added  \\\n",
       "7   United States, Ghana, Burkina Faso, United Kin...  September 24, 2021   \n",
       "8                                      United Kingdom  September 24, 2021   \n",
       "9                                       United States  September 24, 2021   \n",
       "12                            Germany, Czech Republic  September 23, 2021   \n",
       "24                                              India  September 21, 2021   \n",
       "\n",
       "    release_year age_rating   duration  \\\n",
       "7           1993      TV-MA    125 min   \n",
       "8           2021      TV-14  9 Seasons   \n",
       "9           2021      PG-13    104 min   \n",
       "12          2021      TV-MA    127 min   \n",
       "24          1998      TV-14    166 min   \n",
       "\n",
       "                                               genre  \\\n",
       "7   Dramas, Independent Movies, International Movies   \n",
       "8                       British TV Shows, Reality TV   \n",
       "9                                   Comedies, Dramas   \n",
       "12                      Dramas, International Movies   \n",
       "24   Comedies, International Movies, Romantic Movies   \n",
       "\n",
       "                                          description  duration_time  \\\n",
       "7   On a photo shoot in Ghana, an American model s...          125.0   \n",
       "8   A talented batch of amateur bakers face off in...            9.0   \n",
       "9   A woman adjusting to life after a loss contend...          104.0   \n",
       "12  After most of her family is murdered in a terr...          127.0   \n",
       "24  When the father of the man she loves insists t...          166.0   \n",
       "\n",
       "   minutes_or_seasons_type  \n",
       "7                      min  \n",
       "8                  Seasons  \n",
       "9                      min  \n",
       "12                     min  \n",
       "24                     min  "
      ]
     },
     "execution_count": 605,
     "metadata": {},
     "output_type": "execute_result"
    }
   ],
   "source": [
    "column_mapper = {\"rating\": \"age_rating\", \"listed_in\": \"genre\"}\n",
    "netflix_data = netflix_data.rename(\n",
    "    mapper = column_mapper,\n",
    "    axis = 1\n",
    ")\n",
    "netflix_data[\"title\"].str.title()\n",
    "netflix_data.head()\n",
    "#checking the renamed columns "
   ]
  },
  {
   "cell_type": "markdown",
   "id": "bd980be7-2924-46d7-b843-4f048721ff56",
   "metadata": {},
   "source": [
    "### Data Preparation"
   ]
  },
  {
   "cell_type": "code",
   "execution_count": 606,
   "id": "e001631e-33a1-4508-8cf8-b1dc0e6b1109",
   "metadata": {},
   "outputs": [
    {
     "name": "stdout",
     "output_type": "stream",
     "text": [
      "                               release_year\n",
      "title                                      \n",
      "#Alive                               2020.0\n",
      "#AnneFrank - Parallel Stories        2019.0\n",
      "#FriendButMarried                    2018.0\n",
      "#FriendButMarried 2                  2020.0\n",
      "#Roxy                                2018.0\n",
      "...                                     ...\n",
      "​Goli Soda 2                         2018.0\n",
      "​Maj Rati ​​Keteki                   2017.0\n",
      "​Mayurakshi                          2017.0\n",
      "​​Kuch Bheege Alfaaz                 2018.0\n",
      "반드시 잡는다                              2017.0\n",
      "\n",
      "[5332 rows x 1 columns]\n"
     ]
    },
    {
     "data": {
      "text/plain": [
       "release_year\n",
       "2017.0    657\n",
       "2018.0    648\n",
       "2016.0    577\n",
       "2019.0    519\n",
       "2020.0    442\n",
       "         ... \n",
       "1942.0      1\n",
       "1963.0      1\n",
       "1946.0      1\n",
       "1945.0      1\n",
       "1959.0      1\n",
       "Name: count, Length: 72, dtype: int64"
      ]
     },
     "execution_count": 606,
     "metadata": {},
     "output_type": "execute_result"
    }
   ],
   "source": [
    "pivoted_data = pd.pivot_table(netflix_data, index = [\"title\"], values = [\"release_year\"])\n",
    "print(pivoted_data)\n",
    "pivoted_data[\"release_year\"].value_counts()"
   ]
  },
  {
   "cell_type": "markdown",
   "id": "0c1c0804-9e9c-49c3-beda-afb6b7d2f564",
   "metadata": {},
   "source": [
    "### Data Analysis and Visualizations\n",
    "\n",
    "answering questions related to the data to find optimized solutions/answers"
   ]
  },
  {
   "cell_type": "markdown",
   "id": "94ca7f27-88ed-4688-89a0-06d1efe225f2",
   "metadata": {},
   "source": [
    "##### Working on the statistical data, focusing on the release year column, carrying our functions such as plotting onto a bar graph for comparison"
   ]
  },
  {
   "cell_type": "code",
   "execution_count": 607,
   "id": "2548a1b8-789d-4a16-b7f6-66a18ebd6396",
   "metadata": {},
   "outputs": [
    {
     "data": {
      "text/plain": [
       "release_year\n",
       "2017    657\n",
       "2018    648\n",
       "2016    577\n",
       "2019    519\n",
       "2020    442\n",
       "       ... \n",
       "1946      1\n",
       "1961      1\n",
       "1942      1\n",
       "1947      1\n",
       "1944      1\n",
       "Name: count, Length: 72, dtype: int64"
      ]
     },
     "execution_count": 607,
     "metadata": {},
     "output_type": "execute_result"
    }
   ],
   "source": [
    "netflix_data[\"release_year\"].value_counts()"
   ]
  },
  {
   "cell_type": "code",
   "execution_count": 608,
   "id": "23829a7c-ec93-42c1-8eee-00f1ce48762f",
   "metadata": {},
   "outputs": [
    {
     "name": "stdout",
     "output_type": "stream",
     "text": [
      "    unique_values  counts\n",
      "0            2017     657\n",
      "1            2018     648\n",
      "2            2016     577\n",
      "3            2019     519\n",
      "4            2020     442\n",
      "..            ...     ...\n",
      "67           1946       1\n",
      "68           1961       1\n",
      "69           1942       1\n",
      "70           1947       1\n",
      "71           1944       1\n",
      "\n",
      "[72 rows x 2 columns]\n"
     ]
    }
   ],
   "source": [
    "release_year_data = netflix_data[\"release_year\"].value_counts().rename_axis('unique_values').reset_index(name='counts')\n",
    "print(release_year_data)\n",
    "\n",
    "#Netflix has most movies and shows from 2018 than other years"
   ]
  },
  {
   "cell_type": "code",
   "execution_count": 609,
   "id": "0f5cbd2d-3e5e-4bd4-8dab-915116933d70",
   "metadata": {},
   "outputs": [
    {
     "name": "stdout",
     "output_type": "stream",
     "text": [
      "the bar graph shown plotting the release year against the number of movies/shows there are that year is a left-skewed unimodal dataset\n"
     ]
    },
    {
     "data": {
      "image/png": "[encoded data removed]",
      "text/plain": [
       "<Figure size 640x480 with 1 Axes>"
      ]
     },
     "metadata": {},
     "output_type": "display_data"
    }
   ],
   "source": [
    "plt.bar(release_year_data[\"unique_values\"], release_year_data[\"counts\"])\n",
    "plt.xlabel(\"Year\")\n",
    "plt.ylabel(\"Count\")\n",
    "print(\"the bar graph shown plotting the release year against the number of movies/shows there are that year is a left-skewed unimodal dataset\")\n",
    "#left skewed dataset"
   ]
  },
  {
   "cell_type": "markdown",
   "id": "d8679e2b-8f05-459e-aa86-2c7bee1e05aa",
   "metadata": {},
   "source": [
    "#### What is the mean and median of the year of release as well as the earliest and latest logged year that a show was produced?"
   ]
  },
  {
   "cell_type": "code",
   "execution_count": 610,
   "id": "1f3e369e-fa0a-48b8-8ffe-47a3a905ca51",
   "metadata": {},
   "outputs": [
    {
     "name": "stdout",
     "output_type": "stream",
     "text": [
      "the average year of release is 2012\n",
      "the medain year of release is 2016\n",
      "the earliest year of release is 1942\n",
      "the latest year of release is 2021\n"
     ]
    }
   ],
   "source": [
    "average_year_release = np.mean(netflix_data[\"release_year\"])\n",
    "middle_year_release = np.median(netflix_data[\"release_year\"])\n",
    "earliest_year_release = np.min(netflix_data[\"release_year\"])\n",
    "latest_year_release = np.max(netflix_data[\"release_year\"])\n",
    "print(\"the average year of release is \"+ str(int(average_year_release)))\n",
    "print(\"the medain year of release is \"+ str(int(middle_year_release)))\n",
    "print(\"the earliest year of release is \" + str(earliest_year_release))\n",
    "print(\"the latest year of release is \" + str(latest_year_release))"
   ]
  },
  {
   "cell_type": "code",
   "execution_count": 611,
   "id": "bc160ed9-0383-49e7-8454-039bd834b0fc",
   "metadata": {},
   "outputs": [
    {
     "data": {
      "image/png": "[encoded data removed]",
      "text/plain": [
       "<Figure size 640x480 with 1 Axes>"
      ]
     },
     "metadata": {},
     "output_type": "display_data"
    }
   ],
   "source": [
    "plt.bar(release_year_data[\"unique_values\"], release_year_data[\"counts\"])\n",
    "plt.xlabel(\"Year\")\n",
    "plt.ylabel(\"Count\")\n",
    "plt.axvline(earliest_year_release, 0, 1, linestyle = \"dotted\", color = \"green\", label = \"Min\")\n",
    "plt.axvline(latest_year_release, 0, 1, linestyle = \"dotted\", color = \"red\", label = \"Max\")\n",
    "plt.axvline(average_year_release, 0, 1, linestyle = \"dotted\", color = \"Purple\", label = \"Average\")\n",
    "plt.axvline(middle_year_release, 0, 1, linestyle = \"dotted\", color = \"black\", label = \"Middle\")\n",
    "plt.legend(bbox_to_anchor = (1,1))\n",
    "\n",
    "plt.show()"
   ]
  },
  {
   "cell_type": "code",
   "execution_count": 612,
   "id": "c3c8a31f-48d0-4cd0-95ce-26991571d7eb",
   "metadata": {},
   "outputs": [
    {
     "name": "stdout",
     "output_type": "stream",
     "text": [
      "9.624927968741828\n",
      "[2011. 2016. 2018.]\n"
     ]
    }
   ],
   "source": [
    "year_std = np.std(netflix_data[\"release_year\"])\n",
    "year_quartiles = np.quantile(netflix_data[\"release_year\"], [0.25, 0.5, 0.75])\n",
    "print(year_std)\n",
    "print(year_quartiles)"
   ]
  },
  {
   "cell_type": "code",
   "execution_count": 613,
   "id": "b53c1c56-d36e-4729-95cb-db0f1e01b3be",
   "metadata": {},
   "outputs": [
    {
     "name": "stdout",
     "output_type": "stream",
     "text": [
      "as we see in the data, visually the lines are not of equal length apart but in terms of the data, these \n",
      "are the exact points of the 25th, 50th and 75th percentile respectively\n"
     ]
    },
    {
     "data": {
      "image/png": "[encoded data removed]",
      "text/plain": [
       "<Figure size 640x480 with 1 Axes>"
      ]
     },
     "metadata": {},
     "output_type": "display_data"
    }
   ],
   "source": [
    "plt.bar(release_year_data[\"unique_values\"], release_year_data[\"counts\"])\n",
    "plt.xlabel(\"Year\")\n",
    "plt.ylabel(\"Count\")\n",
    "plt.axvline(2013, 0, 1, linestyle = \"dotted\", color = \"red\", label = \"First Quartile\")\n",
    "plt.axvline(2017, 0, 1, linestyle = \"dashed\", color = \"red\", label = \"Second Quartile\")\n",
    "plt.axvline(2019, 0, 1, color = \"red\", label = \"Third Quartile\")\n",
    "plt.legend()\n",
    "print(\"as we see in the data, visually the lines are not of equal length apart but in terms of the data, these \\nare the exact points of the 25th, 50th and 75th percentile respectively\")\n",
    "\n",
    "plt.show()"
   ]
  },
  {
   "cell_type": "code",
   "execution_count": 614,
   "id": "cabd7a66-bebd-4a26-8a4c-7963e66a8b7e",
   "metadata": {},
   "outputs": [
    {
     "data": {
      "text/html": [
       "<div>\n",
       "<style scoped>\n",
       "    .dataframe tbody tr th:only-of-type {\n",
       "        vertical-align: middle;\n",
       "    }\n",
       "\n",
       "    .dataframe tbody tr th {\n",
       "        vertical-align: top;\n",
       "    }\n",
       "\n",
       "    .dataframe thead th {\n",
       "        text-align: right;\n",
       "    }\n",
       "</style>\n",
       "<table border=\"1\" class=\"dataframe\">\n",
       "  <thead>\n",
       "    <tr style=\"text-align: right;\">\n",
       "      <th></th>\n",
       "      <th>show_id</th>\n",
       "      <th>type</th>\n",
       "      <th>title</th>\n",
       "      <th>director</th>\n",
       "      <th>cast</th>\n",
       "      <th>country</th>\n",
       "      <th>date_added</th>\n",
       "      <th>release_year</th>\n",
       "      <th>age_rating</th>\n",
       "      <th>duration</th>\n",
       "      <th>genre</th>\n",
       "      <th>description</th>\n",
       "      <th>duration_time</th>\n",
       "      <th>minutes_or_seasons_type</th>\n",
       "    </tr>\n",
       "  </thead>\n",
       "  <tbody>\n",
       "    <tr>\n",
       "      <th>8205</th>\n",
       "      <td>s8206</td>\n",
       "      <td>Movie</td>\n",
       "      <td>The Battle of Midway</td>\n",
       "      <td>John Ford</td>\n",
       "      <td>Henry Fonda, Jane Darwell</td>\n",
       "      <td>United States</td>\n",
       "      <td>March 31, 2017</td>\n",
       "      <td>1942</td>\n",
       "      <td>TV-14</td>\n",
       "      <td>18 min</td>\n",
       "      <td>Classic Movies, Documentaries</td>\n",
       "      <td>Director John Ford captures combat footage of ...</td>\n",
       "      <td>18.0</td>\n",
       "      <td>min</td>\n",
       "    </tr>\n",
       "    <tr>\n",
       "      <th>8640</th>\n",
       "      <td>s8641</td>\n",
       "      <td>Movie</td>\n",
       "      <td>Tunisian Victory</td>\n",
       "      <td>Frank Capra, John Huston, Hugh Stewart, Roy Bo...</td>\n",
       "      <td>Burgess Meredith</td>\n",
       "      <td>United States, United Kingdom</td>\n",
       "      <td>March 31, 2017</td>\n",
       "      <td>1944</td>\n",
       "      <td>TV-14</td>\n",
       "      <td>76 min</td>\n",
       "      <td>Classic Movies, Documentaries</td>\n",
       "      <td>British and American troops join forces to lib...</td>\n",
       "      <td>76.0</td>\n",
       "      <td>min</td>\n",
       "    </tr>\n",
       "    <tr>\n",
       "      <th>7219</th>\n",
       "      <td>s7220</td>\n",
       "      <td>Movie</td>\n",
       "      <td>Know Your Enemy - Japan</td>\n",
       "      <td>Frank Capra, Joris Ivens</td>\n",
       "      <td>Walter Huston, Dana Andrews</td>\n",
       "      <td>United States</td>\n",
       "      <td>March 31, 2017</td>\n",
       "      <td>1945</td>\n",
       "      <td>TV-14</td>\n",
       "      <td>63 min</td>\n",
       "      <td>Classic Movies, Documentaries</td>\n",
       "      <td>Though culturally insensitive by modern standa...</td>\n",
       "      <td>63.0</td>\n",
       "      <td>min</td>\n",
       "    </tr>\n",
       "    <tr>\n",
       "      <th>7294</th>\n",
       "      <td>s7295</td>\n",
       "      <td>Movie</td>\n",
       "      <td>Let There Be Light</td>\n",
       "      <td>John Huston</td>\n",
       "      <td>Walter Huston</td>\n",
       "      <td>United States</td>\n",
       "      <td>March 31, 2017</td>\n",
       "      <td>1946</td>\n",
       "      <td>TV-PG</td>\n",
       "      <td>58 min</td>\n",
       "      <td>Classic Movies, Documentaries</td>\n",
       "      <td>Some returning combat veterans suffer scars th...</td>\n",
       "      <td>58.0</td>\n",
       "      <td>min</td>\n",
       "    </tr>\n",
       "    <tr>\n",
       "      <th>8587</th>\n",
       "      <td>s8588</td>\n",
       "      <td>Movie</td>\n",
       "      <td>Thunderbolt</td>\n",
       "      <td>William Wyler, John Sturges</td>\n",
       "      <td>James Stewart, Lloyd Bridges</td>\n",
       "      <td>United States</td>\n",
       "      <td>March 31, 2017</td>\n",
       "      <td>1947</td>\n",
       "      <td>TV-PG</td>\n",
       "      <td>42 min</td>\n",
       "      <td>Classic Movies, Documentaries</td>\n",
       "      <td>A P-47 Thunderbolt squadron is shown in prepar...</td>\n",
       "      <td>42.0</td>\n",
       "      <td>min</td>\n",
       "    </tr>\n",
       "  </tbody>\n",
       "</table>\n",
       "</div>"
      ],
      "text/plain": [
       "     show_id   type                    title  \\\n",
       "8205   s8206  Movie     The Battle of Midway   \n",
       "8640   s8641  Movie         Tunisian Victory   \n",
       "7219   s7220  Movie  Know Your Enemy - Japan   \n",
       "7294   s7295  Movie       Let There Be Light   \n",
       "8587   s8588  Movie              Thunderbolt   \n",
       "\n",
       "                                               director  \\\n",
       "8205                                          John Ford   \n",
       "8640  Frank Capra, John Huston, Hugh Stewart, Roy Bo...   \n",
       "7219                           Frank Capra, Joris Ivens   \n",
       "7294                                        John Huston   \n",
       "8587                        William Wyler, John Sturges   \n",
       "\n",
       "                              cast                        country  \\\n",
       "8205     Henry Fonda, Jane Darwell                  United States   \n",
       "8640              Burgess Meredith  United States, United Kingdom   \n",
       "7219   Walter Huston, Dana Andrews                  United States   \n",
       "7294                 Walter Huston                  United States   \n",
       "8587  James Stewart, Lloyd Bridges                  United States   \n",
       "\n",
       "          date_added  release_year age_rating duration  \\\n",
       "8205  March 31, 2017          1942      TV-14   18 min   \n",
       "8640  March 31, 2017          1944      TV-14   76 min   \n",
       "7219  March 31, 2017          1945      TV-14   63 min   \n",
       "7294  March 31, 2017          1946      TV-PG   58 min   \n",
       "8587  March 31, 2017          1947      TV-PG   42 min   \n",
       "\n",
       "                              genre  \\\n",
       "8205  Classic Movies, Documentaries   \n",
       "8640  Classic Movies, Documentaries   \n",
       "7219  Classic Movies, Documentaries   \n",
       "7294  Classic Movies, Documentaries   \n",
       "8587  Classic Movies, Documentaries   \n",
       "\n",
       "                                            description  duration_time  \\\n",
       "8205  Director John Ford captures combat footage of ...           18.0   \n",
       "8640  British and American troops join forces to lib...           76.0   \n",
       "7219  Though culturally insensitive by modern standa...           63.0   \n",
       "7294  Some returning combat veterans suffer scars th...           58.0   \n",
       "8587  A P-47 Thunderbolt squadron is shown in prepar...           42.0   \n",
       "\n",
       "     minutes_or_seasons_type  \n",
       "8205                     min  \n",
       "8640                     min  \n",
       "7219                     min  \n",
       "7294                     min  \n",
       "8587                     min  "
      ]
     },
     "execution_count": 614,
     "metadata": {},
     "output_type": "execute_result"
    }
   ],
   "source": [
    "# figure out how to get the title of the movie/show in the mix and max release date and return it\n",
    "netflix_data = netflix_data.sort_values(by = \"release_year\")\n",
    "netflix_data.head()"
   ]
  },
  {
   "cell_type": "code",
   "execution_count": 615,
   "id": "a054760e-f4a6-4af6-94df-2c6bc6af3175",
   "metadata": {},
   "outputs": [
    {
     "name": "stdout",
     "output_type": "stream",
     "text": [
      "                     title\n",
      "8205  The Battle of Midway\n",
      "                                           title\n",
      "1304  Animals on the Loose: A You vs. Wild Movie\n"
     ]
    }
   ],
   "source": [
    "earliest_netflix_title = netflix_data.iloc[[0], [2]]\n",
    "latest_netflix_title = netflix_data.iloc[[-1], [2]]\n",
    "print(earliest_netflix_title)\n",
    "print(latest_netflix_title)\n",
    "#if the user wanted to watch the earliest or latest show released on netflix then they can look at this data to find the show name"
   ]
  },
  {
   "cell_type": "code",
   "execution_count": 616,
   "id": "f6bae262-3cad-412f-8750-48b034b036a8",
   "metadata": {},
   "outputs": [
    {
     "name": "stdout",
     "output_type": "stream",
     "text": [
      "[1942, 1944, 1945, 1946, 1947, 1954, 1955, 1956, 1958, 1959, 1960, 1961, 1962, 1963, 1964, 1965, 1966, 1967, 1968, 1969, 1970, 1971, 1972, 1973, 1974, 1975, 1976, 1977, 1978, 1979, 1980, 1981, 1982, 1983, 1984, 1985, 1986, 1987, 1988, 1989, 1990, 1991, 1992, 1993, 1994, 1995, 1996, 1997, 1998, 1999, 2000, 2001, 2002, 2003, 2004, 2005, 2006, 2007, 2008, 2009, 2010, 2011, 2012, 2013, 2014, 2015, 2016, 2017, 2018, 2019, 2020, 2021]\n"
     ]
    }
   ],
   "source": [
    "years = []\n",
    "for i in netflix_data[\"release_year\"]:\n",
    "    if i in years:\n",
    "        continue\n",
    "    else:\n",
    "        years.append(i)\n",
    "\n",
    "print(years)\n",
    "\n",
    "#here we can just go through the years and see which were not included in this dataset. We can take note that as the years come closer to our \n",
    "#current age the years do not tend to skip but rather goes on as years + 1. This is because movies are more mass produced now more than ever."
   ]
  },
  {
   "cell_type": "markdown",
   "id": "53be39d2-dc72-4ca5-94a0-23b3f51b5237",
   "metadata": {},
   "source": [
    "##### Working on the statistical data, focusing on the country column"
   ]
  },
  {
   "cell_type": "markdown",
   "id": "c3308fc5-4d9e-4dc9-9fc9-7116daf8904a",
   "metadata": {},
   "source": [
    "#### Which country produces the most movies/shows on netflix?"
   ]
  },
  {
   "cell_type": "code",
   "execution_count": 617,
   "id": "fa201e65-9af8-446c-99c7-7c1dafcd65c6",
   "metadata": {},
   "outputs": [
    {
     "data": {
      "text/plain": [
       "country\n",
       "United States                                    1846\n",
       "India                                             875\n",
       "United Kingdom                                    183\n",
       "Canada                                            107\n",
       "Spain                                              91\n",
       "                                                 ... \n",
       "Kenya, United States                                1\n",
       "United States, France, Canada, Lebanon, Qatar       1\n",
       "United Kingdom, China, United States                1\n",
       "Canada, Luxembourg                                  1\n",
       "China, United Kingdom                               1\n",
       "Name: count, Length: 604, dtype: int64"
      ]
     },
     "execution_count": 617,
     "metadata": {},
     "output_type": "execute_result"
    }
   ],
   "source": [
    "netflix_data[\"country\"].value_counts()"
   ]
  },
  {
   "cell_type": "markdown",
   "id": "ab7fc36c-036b-488b-8734-0acb62b610dd",
   "metadata": {},
   "source": [
    "##### it shows here that the Unites States solely produces the most by a high margin of 2818 movies/shows. But which years was proved \"most films made\" solely by the US?"
   ]
  },
  {
   "cell_type": "code",
   "execution_count": 618,
   "id": "c52fdff6-3e4e-4bcd-8dc2-c9b161112f7c",
   "metadata": {},
   "outputs": [
    {
     "data": {
      "text/plain": [
       "Text(1940, 130, 'Notice how similar the graph looks compared to the above bar graphs,\\nthis is because the US is leading in most movies/shows produced\\nso there is a direct relationship between the two.')"
      ]
     },
     "execution_count": 618,
     "metadata": {},
     "output_type": "execute_result"
    },
    {
     "data": {
      "image/png": "[encoded data removed]",
      "text/plain": [
       "<Figure size 640x480 with 1 Axes>"
      ]
     },
     "metadata": {},
     "output_type": "display_data"
    }
   ],
   "source": [
    "Year_release_and_country = netflix_data[[\"release_year\", \"country\"]]\n",
    "United_States_country_Boolean = Year_release_and_country[\"country\"] == \"United States\"\n",
    "United_States_country = Year_release_and_country[United_States_country_Boolean]\n",
    "\n",
    "country_data = United_States_country[\"release_year\"].value_counts().rename_axis('country_year').reset_index(name='count')\n",
    "\n",
    "plt.bar(country_data2[\"country_year\"], country_data[\"count\"])\n",
    "plt.xlabel(\"Year\")\n",
    "plt.ylabel(\"Count\")\n",
    "plt.text(1940,130,\"Notice how similar the graph looks compared to the above bar graphs,\\nthis is because the US is leading in most movies/shows produced\\nso there is a direct relationship between the two.\", fontsize = 8)"
   ]
  },
  {
   "cell_type": "markdown",
   "id": "4989c25d-9e2b-4996-a65a-88007bc97368",
   "metadata": {},
   "source": [
    "#### What is the longest movie in this netflix dataset?"
   ]
  },
  {
   "cell_type": "code",
   "execution_count": 619,
   "id": "620e472a-b077-42d8-a66c-846433b8d214",
   "metadata": {},
   "outputs": [
    {
     "name": "stdout",
     "output_type": "stream",
     "text": [
      "The longest film is 253 minutes long\n",
      "The second longest film is 237 minutes long\n",
      "The shortest film is 8 minutes long\n",
      "The second shortest film is 12 minutes long\n",
      "\n",
      "I printed the second longest and shortest film minutes to make sure that there is no overlap in minutes of the longest and shortest films\n"
     ]
    }
   ],
   "source": [
    "movie_duration_list = []\n",
    "\n",
    "specific_table = netflix_data[[\"release_year\", \"duration_time\", \"minutes_or_seasons_type\"]]\n",
    "\n",
    "specific_table = specific_table.drop(specific_table[specific_table[\"minutes_or_seasons_type\"] == \"Season\"].index)\n",
    "specific_table = specific_table.drop(specific_table[specific_table[\"minutes_or_seasons_type\"] == \"Seasons\"].index)\n",
    "\n",
    "for values in specific_table[\"duration_time\"]:\n",
    "    movie_duration_list.append(values)\n",
    "movie_duration_list.sort()\n",
    "\n",
    "max_minutes = movie_duration_list[-1]\n",
    "max_minus1_minutes = movie_duration_list[-2]\n",
    "min_minutes = movie_duration_list[0]\n",
    "min_minus1_minutes = movie_duration_list[1]\n",
    "\n",
    "print(\"The longest film is \" + str(int(max_minutes)) + \" minutes long\")\n",
    "print(\"The second longest film is \" + str(int(max_minus1_minutes)) + \" minutes long\")\n",
    "print(\"The shortest film is \" + str(int(min_minutes)) + \" minutes long\")\n",
    "print(\"The second shortest film is \" + str(int(min_minus1_minutes)) + \" minutes long\")\n",
    "\n",
    "# specific_table\n",
    "print(\"\\nI printed the second longest and shortest film minutes to make sure that there is no overlap in minutes of the longest and shortest films\")"
   ]
  },
  {
   "cell_type": "code",
   "execution_count": 620,
   "id": "0aacd567-aba0-4d74-ba33-9061b6e52ae4",
   "metadata": {},
   "outputs": [
    {
     "name": "stdout",
     "output_type": "stream",
     "text": [
      "The title of the longest netflix film is \n",
      "2491    The School of Mischief\n",
      "Name: title, dtype: object \n",
      "and it was released in \n",
      "2491    1973\n",
      "Name: release_year, dtype: int64\n",
      "\n",
      "\n",
      "The title of the shortest netflix film is \n",
      "1484    Cops and Robbers\n",
      "Name: title, dtype: object \n",
      "and it was released in \n",
      "1484    2020\n",
      "Name: release_year, dtype: int64\n"
     ]
    }
   ],
   "source": [
    "longest_movie_title_Boolean = netflix_data[\"duration\"] == \"253 min\"\n",
    "longest_movie_title = netflix_data[longest_movie_title_Boolean]\n",
    "\n",
    "shortest_movie_title_Boolean = netflix_data[\"duration\"] == \"8 min\"\n",
    "shortest_movie_title = netflix_data[shortest_movie_title_Boolean]\n",
    "\n",
    "print(\"The title of the longest netflix film is \\n\" + str(longest_movie_title[\"title\"]) + \" \\nand it was released in \\n\" + str(longest_movie_title[\"release_year\"]))\n",
    "print(\"\\n\")\n",
    "print(\"The title of the shortest netflix film is \\n\" + str(shortest_movie_title[\"title\"]) + \" \\nand it was released in \\n\" + str(shortest_movie_title[\"release_year\"]))\n"
   ]
  },
  {
   "cell_type": "markdown",
   "id": "bb69f678-3efe-4ac3-8f19-59a0d9d62e00",
   "metadata": {},
   "source": [
    "#### Is there a trend in movie duration length as the years go by?"
   ]
  },
  {
   "cell_type": "code",
   "execution_count": 621,
   "id": "bce393a2-7df1-4e58-ae21-5fb67ae3a45b",
   "metadata": {},
   "outputs": [
    {
     "name": "stdout",
     "output_type": "stream",
     "text": [
      "As we can see from the graph, there is no direct relation between years and movie duration time however in the earlier years (roughly 1940 to 1960) the data is less consistent and there is an increase in movie length\n"
     ]
    },
    {
     "data": {
      "image/png": "[encoded data removed]",
      "text/plain": [
       "<Figure size 2500x600 with 1 Axes>"
      ]
     },
     "metadata": {},
     "output_type": "display_data"
    }
   ],
   "source": [
    "plt.figure(figsize=(25,6))\n",
    "plt.plot(specific_table[\"release_year\"], specific_table[\"duration_time\"])\n",
    "\n",
    "plt.xticks(fontsize = 18)\n",
    "plt.yticks(fontsize = 18)\n",
    "plt.xlabel(\"Year\", fontsize = 20)\n",
    "plt.ylabel(\"Movie Duration (min)\", fontsize = 20)\n",
    "\n",
    "plt.axhline(253, 0, 1, color = \"red\", alpha = 0.8, linestyle = \"dashed\", label = \"Longest Movie Time\")\n",
    "plt.axhline(8, 0, 1, color = \"green\", alpha = 0.8, linestyle = \"dashed\", label = \"Shortest Movie Time\")\n",
    "plt.axvline(1973, 0, 1, color = \"red\", alpha = 0.8, linestyle = \"dotted\", label = \"Longest Movie Year\")\n",
    "plt.axvline(2020, 0, 1, color = \"green\", alpha = 0.8, linestyle = \"dotted\", label = \"Shortest Movie Year\")\n",
    "plt.legend(bbox_to_anchor = (1,1), fontsize = 20)\n",
    "\n",
    "print(\"As we can see from the graph, there is no direct relation between years and movie duration time however in the earlier years (roughly 1940 to 1960) the data is less consistent and there is an increase in movie length\")"
   ]
  },
  {
   "cell_type": "markdown",
   "id": "1cacdede-c9ce-48c5-bd02-aee11c1bb7a8",
   "metadata": {},
   "source": [
    "#### What if I wanted to watch my favorite genre which is Comedy? Can I have a new dataset with all movies that have only the comedies genre?"
   ]
  },
  {
   "cell_type": "code",
   "execution_count": 632,
   "id": "59ab1805-b071-4d18-9e3e-943674152441",
   "metadata": {},
   "outputs": [
    {
     "data": {
      "text/html": [
       "<div>\n",
       "<style scoped>\n",
       "    .dataframe tbody tr th:only-of-type {\n",
       "        vertical-align: middle;\n",
       "    }\n",
       "\n",
       "    .dataframe tbody tr th {\n",
       "        vertical-align: top;\n",
       "    }\n",
       "\n",
       "    .dataframe thead th {\n",
       "        text-align: right;\n",
       "    }\n",
       "</style>\n",
       "<table border=\"1\" class=\"dataframe\">\n",
       "  <thead>\n",
       "    <tr style=\"text-align: right;\">\n",
       "      <th></th>\n",
       "      <th>show_id</th>\n",
       "      <th>type</th>\n",
       "      <th>title</th>\n",
       "      <th>director</th>\n",
       "      <th>cast</th>\n",
       "      <th>country</th>\n",
       "      <th>date_added</th>\n",
       "      <th>release_year</th>\n",
       "      <th>age_rating</th>\n",
       "      <th>duration</th>\n",
       "      <th>genre</th>\n",
       "      <th>description</th>\n",
       "      <th>duration_time</th>\n",
       "      <th>minutes_or_seasons_type</th>\n",
       "    </tr>\n",
       "  </thead>\n",
       "  <tbody>\n",
       "    <tr>\n",
       "      <th>4547</th>\n",
       "      <td>s4548</td>\n",
       "      <td>Movie</td>\n",
       "      <td>Monty Python: Live at The Hollywood Bowl</td>\n",
       "      <td>Terry Hughes, Ian MacNaughton</td>\n",
       "      <td>Graham Chapman, John Cleese, Terry Gilliam, Er...</td>\n",
       "      <td>United Kingdom</td>\n",
       "      <td>October 2, 2018</td>\n",
       "      <td>1982</td>\n",
       "      <td>R</td>\n",
       "      <td>80 min</td>\n",
       "      <td>Comedies</td>\n",
       "      <td>Film clips and Terry Gilliam animations featur...</td>\n",
       "      <td>80.0</td>\n",
       "      <td>min</td>\n",
       "    </tr>\n",
       "    <tr>\n",
       "      <th>4554</th>\n",
       "      <td>s4555</td>\n",
       "      <td>Movie</td>\n",
       "      <td>Parrot Sketch Not Included: Twenty Years of Mo...</td>\n",
       "      <td>Ian MacNaughton</td>\n",
       "      <td>Steve Martin, John Cleese, Graham Chapman, Ter...</td>\n",
       "      <td>United Kingdom</td>\n",
       "      <td>October 2, 2018</td>\n",
       "      <td>1989</td>\n",
       "      <td>TV-14</td>\n",
       "      <td>72 min</td>\n",
       "      <td>Comedies</td>\n",
       "      <td>Presented by Steve Martin, this anthology draw...</td>\n",
       "      <td>72.0</td>\n",
       "      <td>min</td>\n",
       "    </tr>\n",
       "    <tr>\n",
       "      <th>6267</th>\n",
       "      <td>s6268</td>\n",
       "      <td>Movie</td>\n",
       "      <td>Bebe's Kids</td>\n",
       "      <td>Bruce W. Smith</td>\n",
       "      <td>Faizon Love, Vanessa Bell Calloway, Wayne Coll...</td>\n",
       "      <td>United States</td>\n",
       "      <td>November 20, 2019</td>\n",
       "      <td>1992</td>\n",
       "      <td>PG-13</td>\n",
       "      <td>73 min</td>\n",
       "      <td>Comedies</td>\n",
       "      <td>When ladies' man Robin meets Jamika, he falls ...</td>\n",
       "      <td>73.0</td>\n",
       "      <td>min</td>\n",
       "    </tr>\n",
       "    <tr>\n",
       "      <th>342</th>\n",
       "      <td>s343</td>\n",
       "      <td>Movie</td>\n",
       "      <td>Major Payne</td>\n",
       "      <td>Nick Castle</td>\n",
       "      <td>Damon Wayans, Karyn Parsons, William Hickey, M...</td>\n",
       "      <td>United States</td>\n",
       "      <td>August 1, 2021</td>\n",
       "      <td>1995</td>\n",
       "      <td>PG-13</td>\n",
       "      <td>97 min</td>\n",
       "      <td>Comedies</td>\n",
       "      <td>A hardened Marine is given his marching orders...</td>\n",
       "      <td>97.0</td>\n",
       "      <td>min</td>\n",
       "    </tr>\n",
       "    <tr>\n",
       "      <th>8301</th>\n",
       "      <td>s8302</td>\n",
       "      <td>Movie</td>\n",
       "      <td>The First Wives Club</td>\n",
       "      <td>Hugh WIlson</td>\n",
       "      <td>Bette Midler, Goldie Hawn, Diane Keaton, Maggi...</td>\n",
       "      <td>United States</td>\n",
       "      <td>November 20, 2019</td>\n",
       "      <td>1996</td>\n",
       "      <td>PG</td>\n",
       "      <td>103 min</td>\n",
       "      <td>Comedies</td>\n",
       "      <td>Following a friend's suicide after her husband...</td>\n",
       "      <td>103.0</td>\n",
       "      <td>min</td>\n",
       "    </tr>\n",
       "  </tbody>\n",
       "</table>\n",
       "</div>"
      ],
      "text/plain": [
       "     show_id   type                                              title  \\\n",
       "4547   s4548  Movie           Monty Python: Live at The Hollywood Bowl   \n",
       "4554   s4555  Movie  Parrot Sketch Not Included: Twenty Years of Mo...   \n",
       "6267   s6268  Movie                                        Bebe's Kids   \n",
       "342     s343  Movie                                        Major Payne   \n",
       "8301   s8302  Movie                               The First Wives Club   \n",
       "\n",
       "                           director  \\\n",
       "4547  Terry Hughes, Ian MacNaughton   \n",
       "4554                Ian MacNaughton   \n",
       "6267                 Bruce W. Smith   \n",
       "342                     Nick Castle   \n",
       "8301                    Hugh WIlson   \n",
       "\n",
       "                                                   cast         country  \\\n",
       "4547  Graham Chapman, John Cleese, Terry Gilliam, Er...  United Kingdom   \n",
       "4554  Steve Martin, John Cleese, Graham Chapman, Ter...  United Kingdom   \n",
       "6267  Faizon Love, Vanessa Bell Calloway, Wayne Coll...   United States   \n",
       "342   Damon Wayans, Karyn Parsons, William Hickey, M...   United States   \n",
       "8301  Bette Midler, Goldie Hawn, Diane Keaton, Maggi...   United States   \n",
       "\n",
       "             date_added  release_year age_rating duration     genre  \\\n",
       "4547    October 2, 2018          1982          R   80 min  Comedies   \n",
       "4554    October 2, 2018          1989      TV-14   72 min  Comedies   \n",
       "6267  November 20, 2019          1992      PG-13   73 min  Comedies   \n",
       "342      August 1, 2021          1995      PG-13   97 min  Comedies   \n",
       "8301  November 20, 2019          1996         PG  103 min  Comedies   \n",
       "\n",
       "                                            description  duration_time  \\\n",
       "4547  Film clips and Terry Gilliam animations featur...           80.0   \n",
       "4554  Presented by Steve Martin, this anthology draw...           72.0   \n",
       "6267  When ladies' man Robin meets Jamika, he falls ...           73.0   \n",
       "342   A hardened Marine is given his marching orders...           97.0   \n",
       "8301  Following a friend's suicide after her husband...          103.0   \n",
       "\n",
       "     minutes_or_seasons_type  \n",
       "4547                     min  \n",
       "4554                     min  \n",
       "6267                     min  \n",
       "342                      min  \n",
       "8301                     min  "
      ]
     },
     "execution_count": 632,
     "metadata": {},
     "output_type": "execute_result"
    }
   ],
   "source": [
    "# print(netflix_data[\"genre\"])\n",
    "# netflix_data.head()\n",
    "comedies_show_Boolean = netflix_data[\"genre\"] == \"Comedies\"\n",
    "comedies_show = netflix_data[comedies_show_Boolean]\n",
    "comedies_show.head()"
   ]
  },
  {
   "cell_type": "markdown",
   "id": "55887254-3ff4-452d-a312-ed11d1d6a18f",
   "metadata": {},
   "source": [
    "##### I want to show the 13 year-old kids that I am babysitting some of these comedy movies. Can I have a list of movies that fit these requirements?"
   ]
  },
  {
   "cell_type": "code",
   "execution_count": 633,
   "id": "92795a52-81ae-49ce-b5e4-79cacc09cda6",
   "metadata": {},
   "outputs": [
    {
     "name": "stdout",
     "output_type": "stream",
     "text": [
      "[\"Bebe's Kids\", 'Major Payne', 'Austin Powers: International Man of Mystery', 'Big Daddy', 'Superstar', 'Little Nicky', 'Dumb and Dumberer: When Harry Met Lloyd', 'Anger Management', 'Fun with Dick & Jane', 'Accepted', 'Mr. Woodcock', 'Welcome Home Roscoe Jenkins', 'Mad Money', '17 Again', 'Dinner for Schmucks', 'Grown Ups', \"I Don't Know How She Does It\", 'Mean Girls 2', 'A Thousand Words', 'Don Verdean', 'SMOSH: The Movie', 'Hail, Caesar!', 'Wild Oats', 'How to Be a Latin Lover', 'Bring It On: Worldwide Showdown', 'Step Sisters', 'Poms', 'Murder Mystery']\n"
     ]
    }
   ],
   "source": [
    "babysitting_movies_dataframe = comedies_show[[\"title\", \"age_rating\", \"genre\"]]\n",
    "babysitting_movies = babysitting_movies_dataframe.loc[babysitting_movies_dataframe[\"age_rating\"] == \"PG-13\"]\n",
    "\n",
    "babysitting_movies_list = []\n",
    "for movies in babysitting_movies[\"title\"]:\n",
    "    babysitting_movies_list.append(movies)\n",
    "print(babysitting_movies_list)"
   ]
  },
  {
   "cell_type": "markdown",
   "id": "dd790347-70eb-4804-8a7a-7fa29f6e453c",
   "metadata": {},
   "source": [
    "##### The kids said that they don't like old movies and only want to watch movies that are after the year 2010. Can I have a new list of movies that I can show to these kids?"
   ]
  },
  {
   "cell_type": "code",
   "execution_count": 634,
   "id": "83cd0da1-0077-4019-a142-8f61e1c79f14",
   "metadata": {},
   "outputs": [
    {
     "name": "stdout",
     "output_type": "stream",
     "text": [
      "[\"I Don't Know How She Does It\", 'Mean Girls 2', 'A Thousand Words', 'Don Verdean', 'SMOSH: The Movie', 'Hail, Caesar!', 'Wild Oats', 'How to Be a Latin Lover', 'Bring It On: Worldwide Showdown', 'Step Sisters', 'Poms', 'Murder Mystery']\n"
     ]
    }
   ],
   "source": [
    "babysitting_movies_dataframe_new = comedies_show[[\"title\", \"age_rating\", \"genre\", \"release_year\"]]\n",
    "babysitting_movies_new = babysitting_movies_dataframe_new.loc[babysitting_movies_dataframe_new[\"age_rating\"] == \"PG-13\"]\n",
    "babysitting_movies_new = babysitting_movies_new.loc[babysitting_movies_new[\"release_year\"] > 2010]\n",
    "\n",
    "babysitting_movies_list_new = []\n",
    "for movies in babysitting_movies_new[\"title\"]:\n",
    "    babysitting_movies_list_new.append(movies)\n",
    "print(babysitting_movies_list_new)"
   ]
  },
  {
   "cell_type": "code",
   "execution_count": null,
   "id": "46d2c8ea-4c08-44d5-bcd0-1b30df9427c5",
   "metadata": {},
   "outputs": [],
   "source": []
  },
  {
   "cell_type": "code",
   "execution_count": null,
   "id": "dd580920-f3cd-4770-b018-ab653ba15c5f",
   "metadata": {},
   "outputs": [],
   "source": []
  },
  {
   "cell_type": "code",
   "execution_count": null,
   "id": "732aeb1e-2a3f-45d4-9f2f-ec3f89e8a838",
   "metadata": {},
   "outputs": [],
   "source": []
  },
  {
   "cell_type": "code",
   "execution_count": null,
   "id": "865f46b8-a0d6-4470-a1eb-a3097aa15853",
   "metadata": {},
   "outputs": [],
   "source": []
  }
 ],
 "metadata": {
  "kernelspec": {
   "display_name": "Python 3 (ipykernel)",
   "language": "python",
   "name": "python3"
  },
  "language_info": {
   "codemirror_mode": {
    "name": "ipython",
    "version": 3
   },
   "file_extension": ".py",
   "mimetype": "text/x-python",
   "name": "python",
   "nbconvert_exporter": "python",
   "pygments_lexer": "ipython3",
   "version": "3.11.7"
  }
 },
 "nbformat": 4,
 "nbformat_minor": 5
}
